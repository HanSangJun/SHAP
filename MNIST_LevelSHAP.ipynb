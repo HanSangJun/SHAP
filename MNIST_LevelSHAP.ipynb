{
 "cells": [
  {
   "cell_type": "code",
   "execution_count": null,
   "metadata": {},
   "outputs": [],
   "source": [
    "import os\n",
    "import cv2\n",
    "import glob\n",
    "import shap\n",
    "import numpy as np\n",
    "\n",
    "from time import time\n",
    "from sklearn.utils import shuffle\n",
    "from matplotlib import pyplot as plt\n",
    "from itertools import combinations, permutations\n",
    "\n",
    "from tensorflow import keras\n",
    "from tensorflow.keras import layers\n",
    "from tensorflow.keras.callbacks import LearningRateScheduler\n",
    "\n",
    "os.environ[\"CUDA_VISIBLE_DEVICES\"] = \"1\""
   ]
  },
  {
   "cell_type": "code",
   "execution_count": null,
   "metadata": {},
   "outputs": [],
   "source": [
    "# data parameters\n",
    "num_classes = 10"
   ]
  },
  {
   "cell_type": "code",
   "execution_count": null,
   "metadata": {},
   "outputs": [],
   "source": [
    "# the data, split between train and test sets\n",
    "(x_train, y_train), (x_test, y_test) = keras.datasets.mnist.load_data()\n",
    "\n",
    "# scale images to the [0, 1] range\n",
    "x_train = x_train.astype(\"float32\") / 255\n",
    "x_test = x_test.astype(\"float32\") / 255\n",
    "\n",
    "x_train = np.expand_dims(x_train, -1)\n",
    "x_test = np.expand_dims(x_test, -1)\n",
    "\n",
    "print(\"x_train shape :\", x_train.shape)\n",
    "print(\"x_test shape :\", x_test.shape)"
   ]
  },
  {
   "cell_type": "code",
   "execution_count": null,
   "metadata": {},
   "outputs": [],
   "source": [
    "# convert class vectors to binary class matrices\n",
    "y_train = keras.utils.to_categorical(y_train, num_classes)\n",
    "y_test = keras.utils.to_categorical(y_test, num_classes)\n",
    "\n",
    "print(\"y_train shape :\", y_train.shape)\n",
    "print(\"y_test shape :\", y_test.shape)"
   ]
  },
  {
   "cell_type": "code",
   "execution_count": null,
   "metadata": {},
   "outputs": [],
   "source": [
    "def lr_decay(epoch):\n",
    "    init_lr = 0.01\n",
    "    drop_rate = 0.85\n",
    "    drop_epochs = 5\n",
    "    \n",
    "    # learning rate decay\n",
    "    lr = init_lr * np.power(drop_rate, np.floor((1+epoch)/drop_epochs))\n",
    "    \n",
    "    if (1 + epoch) % drop_epochs == 0: \n",
    "        print('learning rate is decayed to %f' % lr)\n",
    "        \n",
    "    return lr"
   ]
  },
  {
   "cell_type": "code",
   "execution_count": null,
   "metadata": {},
   "outputs": [],
   "source": [
    "# model\n",
    "inputs = keras.Input(shape=(28, 28, 1))\n",
    "\n",
    "x = layers.Conv2D(32, (3, 3), activation=\"relu\", padding=\"same\")(inputs)\n",
    "x = layers.MaxPooling2D(pool_size=(2, 2))(x)\n",
    "x = layers.Dropout(0.5)(x, training=True)\n",
    "\n",
    "x = layers.Conv2D(64, (3, 3), activation=\"relu\", padding=\"same\")(x)\n",
    "x = layers.MaxPooling2D(pool_size=(2, 2))(x)\n",
    "x = layers.Dropout(0.5)(x, training=True)\n",
    "\n",
    "x = layers.Flatten()(x)\n",
    "outputs = layers.Dense(num_classes, activation=\"softmax\")(x)\n",
    "\n",
    "model = keras.Model(inputs=inputs, outputs=outputs)\n",
    "model.summary()\n",
    "model.compile(loss=\"categorical_crossentropy\", optimizer=\"adam\", metrics=[\"accuracy\"])"
   ]
  },
  {
   "cell_type": "code",
   "execution_count": null,
   "metadata": {},
   "outputs": [],
   "source": [
    "batch_size = 512\n",
    "lr_scheduler = LearningRateScheduler(lr_decay)\n",
    "history = model.fit(x_train, y_train, batch_size=batch_size, epochs=100, validation_split=0.1, callbacks=[lr_scheduler], shuffle=True)"
   ]
  },
  {
   "cell_type": "code",
   "execution_count": null,
   "metadata": {},
   "outputs": [],
   "source": [
    "plt.plot(history.history[\"loss\"])\n",
    "plt.plot(history.history[\"val_loss\"])\n",
    "plt.title(\"Loss\")\n",
    "plt.xlabel(\"Epochs\")\n",
    "plt.ylabel(\"Loss\")\n",
    "plt.legend([\"Train\", \"Val\"])\n",
    "plt.show()\n",
    "\n",
    "plt.plot(history.history[\"accuracy\"])\n",
    "plt.plot(history.history[\"val_accuracy\"])\n",
    "plt.title(\"Accuracy\")\n",
    "plt.xlabel(\"Accuracy\")\n",
    "plt.ylabel(\"Loss\")\n",
    "plt.legend([\"Train\", \"Val\"])\n",
    "plt.show()"
   ]
  },
  {
   "cell_type": "code",
   "execution_count": null,
   "metadata": {},
   "outputs": [],
   "source": [
    "score = model.evaluate(x_test, y_test, verbose=0)\n",
    "\n",
    "print(\"Test loss :\", score[0])\n",
    "print(\"Test accuracy :\", score[1])"
   ]
  },
  {
   "cell_type": "markdown",
   "metadata": {},
   "source": [
    "### SHAP for Target"
   ]
  },
  {
   "cell_type": "code",
   "execution_count": null,
   "metadata": {},
   "outputs": [],
   "source": [
    "repeat = 30000\n",
    "width = x_train.shape[1]\n",
    "height = x_train.shape[2]\n",
    "feat_dim = width * height\n",
    "\n",
    "data = x_test[:2048]\n",
    "importance = np.zeros(data.shape)\n",
    "count = np.zeros(data.shape)\n",
    "\n",
    "level = 1\n",
    "level_set = np.arange(level)\n",
    "level_set = np.concatenate([level_set, feat_dim-level_set-1])\n",
    "level_set_prob = [0.5] * 2"
   ]
  },
  {
   "cell_type": "code",
   "execution_count": null,
   "metadata": {},
   "outputs": [],
   "source": [
    "# determine m\n",
    "start_time = time()\n",
    "\n",
    "for i in range(0, repeat):\n",
    "    # get level\n",
    "    level = np.random.choice(level_set, 1, p=level_set_prob)[0]\n",
    "    \n",
    "    # 1-d mask\n",
    "    mask = np.concatenate([np.ones(level), np.zeros(feat_dim-level)])\n",
    "    np.random.shuffle(mask)\n",
    "    \n",
    "    # reshape mask to 2-d\n",
    "    mask = np.reshape(mask, data.shape[1:])\n",
    "    \n",
    "    # get one row and col which are empty\n",
    "    row_where_0, col_where_0, _ = np.where(mask == 0)\n",
    "    random_idx = np.random.randint(row_where_0.shape[0])\n",
    "    \n",
    "    row = row_where_0[random_idx]\n",
    "    col = col_where_0[random_idx]\n",
    "    \n",
    "    # activate/deactivate feature j\n",
    "    mask[row, col] = 1\n",
    "    mask_with_f = np.copy(mask)\n",
    "\n",
    "    mask[row, col] = 0\n",
    "    mask_without_f = np.copy(mask)\n",
    "\n",
    "    # maksing data\n",
    "    data_with_f = np.multiply(data, mask_with_f)\n",
    "    data_without_f = np.multiply(data, mask_without_f)\n",
    "\n",
    "    # get softmax value\n",
    "    pred_with_f = np.max(model.predict(data_with_f), axis=1)\n",
    "    pred_without_f = np.max(model.predict(data_without_f), axis=1)\n",
    "\n",
    "    # marginal Shapely value\n",
    "    diff = pred_with_f - pred_without_f\n",
    "    diff = np.expand_dims(diff, axis=-1)\n",
    "    importance[:, row, col] += diff\n",
    "    count[:, row, col] += 1\n",
    "    \n",
    "    if i % 5000 == 0 and i > 0: # verbose\n",
    "        print(\"For %dth iter, it takes %0.3f sec\" % (i, time()-start_time))\n",
    "        \n",
    "        for data_num in range(0, data.shape[0]):\n",
    "            img_name = \"./images/fig_iter\" + str(i) + \"_data\" + str(data_num) + \".png\"\n",
    "            pred = model.predict(np.expand_dims(data[data_num], axis=0))\n",
    "                                 \n",
    "            ax1 = plt.subplot(1, 2, 1)\n",
    "            im1 = plt.imshow(np.squeeze(data[data_num]), cmap=\"gray\")\n",
    "            plt.title(\"Predicted as %d\" % np.argmax(pred, axis=1))\n",
    "\n",
    "            ax2 = plt.subplot(1, 2, 2)\n",
    "            im2 = plt.imshow(np.squeeze(np.divide(importance[data_num], count[data_num])))\n",
    "            plt.colorbar(im2, fraction=0.046, pad=0.04)\n",
    "            plt.tight_layout()\n",
    "            plt.savefig(img_name, dpi=300, bbox_inches=\"tight\")\n",
    "            plt.show()\n",
    "        \n",
    "        print(\"\\n\")\n",
    "        start_time = time()\n",
    "    \n",
    "importance = np.divide(importance, count)"
   ]
  }
 ],
 "metadata": {
  "kernelspec": {
   "display_name": "Python 3",
   "language": "python",
   "name": "python3"
  },
  "language_info": {
   "codemirror_mode": {
    "name": "ipython",
    "version": 3
   },
   "file_extension": ".py",
   "mimetype": "text/x-python",
   "name": "python",
   "nbconvert_exporter": "python",
   "pygments_lexer": "ipython3",
   "version": "3.7.5"
  }
 },
 "nbformat": 4,
 "nbformat_minor": 4
}
